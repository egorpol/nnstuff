{
 "cells": [
  {
   "cell_type": "code",
   "execution_count": 4,
   "id": "ccf4b976-7e5e-4606-9141-832f659a5e25",
   "metadata": {},
   "outputs": [
    {
     "name": "stdout",
     "output_type": "stream",
     "text": [
      "Model visualization saved as 'vae_model_architecture.png'\n"
     ]
    }
   ],
   "source": [
    "from enhanced_vae_model import EnhancedVAE, init_model\n",
    "from graphviz import Digraph\n",
    "\n",
    "def visualize_vae(model):\n",
    "    dot = Digraph(comment='Enhanced VAE')\n",
    "    dot.attr(rankdir='TB', size='12,12')\n",
    "\n",
    "    # Input\n",
    "    dot.node('input', 'Input\\n1x28x28')\n",
    "\n",
    "    # Encoder\n",
    "    with dot.subgraph(name='cluster_encoder') as c:\n",
    "        c.attr(label='Encoder')\n",
    "        c.node('conv1', 'Conv 32x14x14')\n",
    "        c.node('conv2', 'Conv 64x7x7')\n",
    "        c.node('conv3', 'Conv 128x4x4')\n",
    "        c.node('conv4', 'Conv 256x1x1')\n",
    "        c.node('fc1', 'FC 512')\n",
    "        c.node('fc21', f'FC {model.get_latent_dim()}\\n(mu)')\n",
    "        c.node('fc22', f'FC {model.get_latent_dim()}\\n(logvar)')\n",
    "\n",
    "    # Latent Space\n",
    "    dot.node('z', f'Latent Space\\n{model.get_latent_dim()}')\n",
    "\n",
    "    # Decoder\n",
    "    with dot.subgraph(name='cluster_decoder') as c:\n",
    "        c.attr(label='Decoder')\n",
    "        c.node('fc3', 'FC 512')\n",
    "        c.node('fc4', 'FC 256')\n",
    "        c.node('deconv1', 'ConvTranspose 128x4x4')\n",
    "        c.node('deconv2', 'ConvTranspose 64x7x7')\n",
    "        c.node('deconv3', 'ConvTranspose 32x14x14')\n",
    "        c.node('deconv4', 'ConvTranspose 1x28x28')\n",
    "\n",
    "    # Output\n",
    "    dot.node('output', 'Output\\n1x28x28')\n",
    "\n",
    "    # Connections\n",
    "    dot.edge('input', 'conv1')\n",
    "    dot.edge('conv1', 'conv2')\n",
    "    dot.edge('conv2', 'conv3')\n",
    "    dot.edge('conv3', 'conv4')\n",
    "    dot.edge('conv4', 'fc1')\n",
    "    dot.edge('fc1', 'fc21')\n",
    "    dot.edge('fc1', 'fc22')\n",
    "    dot.edge('fc21', 'z')\n",
    "    dot.edge('fc22', 'z')\n",
    "    dot.edge('z', 'fc3')\n",
    "    dot.edge('fc3', 'fc4')\n",
    "    dot.edge('fc4', 'deconv1')\n",
    "    dot.edge('deconv1', 'deconv2')\n",
    "    dot.edge('deconv2', 'deconv3')\n",
    "    dot.edge('deconv3', 'deconv4')\n",
    "    dot.edge('deconv4', 'output')\n",
    "\n",
    "    return dot\n",
    "\n",
    "# Initialize the model with latent_dim=10\n",
    "model, _ = init_model(latent_dim=10, device='cpu')\n",
    "\n",
    "# Generate and save the graph\n",
    "dot = visualize_vae(model)\n",
    "dot.render(\"vae_model_architecture\", format=\"png\", cleanup=True)\n",
    "print(\"Model visualization saved as 'vae_model_architecture.png'\")"
   ]
  }
 ],
 "metadata": {
  "kernelspec": {
   "display_name": "Python 3 (ipykernel)",
   "language": "python",
   "name": "python3"
  },
  "language_info": {
   "codemirror_mode": {
    "name": "ipython",
    "version": 3
   },
   "file_extension": ".py",
   "mimetype": "text/x-python",
   "name": "python",
   "nbconvert_exporter": "python",
   "pygments_lexer": "ipython3",
   "version": "3.12.4"
  }
 },
 "nbformat": 4,
 "nbformat_minor": 5
}
